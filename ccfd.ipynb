{
  "nbformat": 4,
  "nbformat_minor": 0,
  "metadata": {
    "colab": {
      "provenance": []
    },
    "kernelspec": {
      "name": "python3",
      "display_name": "Python 3"
    },
    "language_info": {
      "name": "python"
    }
  },
  "cells": [
    {
      "cell_type": "markdown",
      "source": [
        "#CREDIT CARD FRAUD DETECTION"
      ],
      "metadata": {
        "id": "HQKlV9DDyEWe"
      }
    },
    {
      "cell_type": "markdown",
      "source": [
        "###IMPORTING THE LIBRARIES"
      ],
      "metadata": {
        "id": "4W2m8MfiySGO"
      }
    },
    {
      "cell_type": "code",
      "source": [
        "import numpy as np\n",
        "import pandas as pd\n",
        "import matplotlib.pyplot as plt\n",
        "from sklearn.linear_model import LogisticRegression\n",
        "from sklearn.model_selection import train_test_split\n",
        "from sklearn.metrics import accuracy_score, precision_score, recall_score, f1_score, roc_auc_score"
      ],
      "metadata": {
        "id": "wYhR4Gc3yVm9"
      },
      "execution_count": 456,
      "outputs": []
    },
    {
      "cell_type": "markdown",
      "source": [
        "Loading the dataset"
      ],
      "metadata": {
        "id": "q2hyy_ma0Bsu"
      }
    },
    {
      "cell_type": "code",
      "source": [
        "data = pd.read_csv(\"/content/training_data.csv\")\n",
        "labels = pd.read_csv(\"/content/train_data_classlabels.csv\")"
      ],
      "metadata": {
        "id": "Vw91LREG0GpD"
      },
      "execution_count": 457,
      "outputs": []
    },
    {
      "cell_type": "markdown",
      "source": [
        "Merging data labels into the training data"
      ],
      "metadata": {
        "id": "IshmxQlHJ-ki"
      }
    },
    {
      "cell_type": "code",
      "source": [
        "data['Class'] = labels"
      ],
      "metadata": {
        "id": "6IZ_0L9bILE5"
      },
      "execution_count": 458,
      "outputs": []
    },
    {
      "cell_type": "markdown",
      "source": [
        "Data infromation"
      ],
      "metadata": {
        "id": "R8x2XmKK0-jq"
      }
    },
    {
      "cell_type": "code",
      "source": [
        "data.info()"
      ],
      "metadata": {
        "colab": {
          "base_uri": "https://localhost:8080/"
        },
        "id": "gy9mx7Gn07du",
        "outputId": "d67d6e63-8187-4f5b-e3b3-d4483624ed36"
      },
      "execution_count": 459,
      "outputs": [
        {
          "output_type": "stream",
          "name": "stdout",
          "text": [
            "<class 'pandas.core.frame.DataFrame'>\n",
            "RangeIndex: 57116 entries, 0 to 57115\n",
            "Data columns (total 31 columns):\n",
            " #   Column  Non-Null Count  Dtype  \n",
            "---  ------  --------------  -----  \n",
            " 0   Time    57116 non-null  int64  \n",
            " 1   V1      57116 non-null  float64\n",
            " 2   V2      57116 non-null  float64\n",
            " 3   V3      57116 non-null  float64\n",
            " 4   V4      57116 non-null  float64\n",
            " 5   V5      57116 non-null  float64\n",
            " 6   V6      57116 non-null  float64\n",
            " 7   V7      57116 non-null  float64\n",
            " 8   V8      57116 non-null  float64\n",
            " 9   V9      57116 non-null  float64\n",
            " 10  V10     57116 non-null  float64\n",
            " 11  V11     57116 non-null  float64\n",
            " 12  V12     57116 non-null  float64\n",
            " 13  V13     57116 non-null  float64\n",
            " 14  V14     57116 non-null  float64\n",
            " 15  V15     57116 non-null  float64\n",
            " 16  V16     57116 non-null  float64\n",
            " 17  V17     57116 non-null  float64\n",
            " 18  V18     57116 non-null  float64\n",
            " 19  V19     57116 non-null  float64\n",
            " 20  V20     57116 non-null  float64\n",
            " 21  V21     57116 non-null  float64\n",
            " 22  V22     57116 non-null  float64\n",
            " 23  V23     57116 non-null  float64\n",
            " 24  V24     57116 non-null  float64\n",
            " 25  V25     57116 non-null  float64\n",
            " 26  V26     57116 non-null  float64\n",
            " 27  V27     57116 non-null  float64\n",
            " 28  V28     57116 non-null  float64\n",
            " 29  Amount  57116 non-null  float64\n",
            " 30  Class   57116 non-null  float64\n",
            "dtypes: float64(30), int64(1)\n",
            "memory usage: 13.5 MB\n"
          ]
        }
      ]
    },
    {
      "cell_type": "markdown",
      "source": [
        "Checking for missing values"
      ],
      "metadata": {
        "id": "NVJdYrG91PN7"
      }
    },
    {
      "cell_type": "code",
      "source": [
        "data.isnull().sum()"
      ],
      "metadata": {
        "colab": {
          "base_uri": "https://localhost:8080/"
        },
        "id": "z1KuuB5Z1TdU",
        "outputId": "5f541cbe-9324-437f-d0b0-90ea66ab62c1"
      },
      "execution_count": 460,
      "outputs": [
        {
          "output_type": "execute_result",
          "data": {
            "text/plain": [
              "Time      0\n",
              "V1        0\n",
              "V2        0\n",
              "V3        0\n",
              "V4        0\n",
              "V5        0\n",
              "V6        0\n",
              "V7        0\n",
              "V8        0\n",
              "V9        0\n",
              "V10       0\n",
              "V11       0\n",
              "V12       0\n",
              "V13       0\n",
              "V14       0\n",
              "V15       0\n",
              "V16       0\n",
              "V17       0\n",
              "V18       0\n",
              "V19       0\n",
              "V20       0\n",
              "V21       0\n",
              "V22       0\n",
              "V23       0\n",
              "V24       0\n",
              "V25       0\n",
              "V26       0\n",
              "V27       0\n",
              "V28       0\n",
              "Amount    0\n",
              "Class     0\n",
              "dtype: int64"
            ]
          },
          "metadata": {},
          "execution_count": 460
        }
      ]
    },
    {
      "cell_type": "code",
      "source": [
        "data.isnull().sum().sum()"
      ],
      "metadata": {
        "colab": {
          "base_uri": "https://localhost:8080/"
        },
        "id": "5Azgitiyhotr",
        "outputId": "26ef59ed-776f-43cc-d002-30766abba2ba"
      },
      "execution_count": 461,
      "outputs": [
        {
          "output_type": "execute_result",
          "data": {
            "text/plain": [
              "0"
            ]
          },
          "metadata": {},
          "execution_count": 461
        }
      ]
    },
    {
      "cell_type": "markdown",
      "source": [
        "We have no missing values!"
      ],
      "metadata": {
        "id": "4_0a_vN81dLD"
      }
    },
    {
      "cell_type": "markdown",
      "source": [
        "Checking distribution of legit and fraudulent transactions"
      ],
      "metadata": {
        "id": "Ruu5i5902ZcC"
      }
    },
    {
      "cell_type": "code",
      "source": [
        "data['Class'].value_counts()"
      ],
      "metadata": {
        "colab": {
          "base_uri": "https://localhost:8080/"
        },
        "id": "K-3afQo11ZMs",
        "outputId": "67e6fcb6-8f75-44b0-a103-3595250ff3a9"
      },
      "execution_count": 462,
      "outputs": [
        {
          "output_type": "execute_result",
          "data": {
            "text/plain": [
              "0.0    56974\n",
              "1.0      142\n",
              "Name: Class, dtype: int64"
            ]
          },
          "metadata": {},
          "execution_count": 462
        }
      ]
    },
    {
      "cell_type": "markdown",
      "source": [
        "The data is very unbalanced!!\n",
        "\n",
        "0 => Normal Transactions\n",
        "\n",
        "1 => Fraudulent Transactions"
      ],
      "metadata": {
        "id": "8-2q6NzZ20qI"
      }
    },
    {
      "cell_type": "markdown",
      "source": [
        "Separating the data for analysis"
      ],
      "metadata": {
        "id": "Y1frPysI26mb"
      }
    },
    {
      "cell_type": "code",
      "source": [
        "legit = data[data.Class == 0]\n",
        "fraud = data[data.Class ==1]"
      ],
      "metadata": {
        "id": "iC97ahtR2qd_"
      },
      "execution_count": 463,
      "outputs": []
    },
    {
      "cell_type": "code",
      "source": [
        "print(legit.shape)\n",
        "print(fraud.shape)"
      ],
      "metadata": {
        "colab": {
          "base_uri": "https://localhost:8080/"
        },
        "id": "gujdDp3T3mP7",
        "outputId": "30d71bbb-0812-4616-d4d5-82cca41ae91a"
      },
      "execution_count": 464,
      "outputs": [
        {
          "output_type": "stream",
          "name": "stdout",
          "text": [
            "(56974, 31)\n",
            "(142, 31)\n"
          ]
        }
      ]
    },
    {
      "cell_type": "markdown",
      "source": [
        "Stastical measures"
      ],
      "metadata": {
        "id": "U3UHxlulBecJ"
      }
    },
    {
      "cell_type": "code",
      "source": [
        "legit.Amount.describe()"
      ],
      "metadata": {
        "colab": {
          "base_uri": "https://localhost:8080/"
        },
        "id": "0_pIzq7-31Qj",
        "outputId": "7f19aa45-cfca-48eb-cfcc-d1716b914030"
      },
      "execution_count": 465,
      "outputs": [
        {
          "output_type": "execute_result",
          "data": {
            "text/plain": [
              "count    56974.000000\n",
              "mean        96.947941\n",
              "std        270.511706\n",
              "min          0.000000\n",
              "25%          7.610000\n",
              "50%         26.315000\n",
              "75%         87.935000\n",
              "max      19656.530000\n",
              "Name: Amount, dtype: float64"
            ]
          },
          "metadata": {},
          "execution_count": 465
        }
      ]
    },
    {
      "cell_type": "code",
      "source": [
        "fraud.Amount.describe()"
      ],
      "metadata": {
        "colab": {
          "base_uri": "https://localhost:8080/"
        },
        "id": "KVf8-7t2BuxK",
        "outputId": "1d374b72-9a00-4bb5-d983-e6b32e8913b8"
      },
      "execution_count": 466,
      "outputs": [
        {
          "output_type": "execute_result",
          "data": {
            "text/plain": [
              "count     142.000000\n",
              "mean       94.179930\n",
              "std       227.637806\n",
              "min         0.000000\n",
              "25%         1.000000\n",
              "50%         3.860000\n",
              "75%        99.990000\n",
              "max      1809.680000\n",
              "Name: Amount, dtype: float64"
            ]
          },
          "metadata": {},
          "execution_count": 466
        }
      ]
    },
    {
      "cell_type": "markdown",
      "source": [
        "Comparing the values"
      ],
      "metadata": {
        "id": "lFJLblkGLMel"
      }
    },
    {
      "cell_type": "code",
      "source": [
        "data.groupby('Class').mean()"
      ],
      "metadata": {
        "colab": {
          "base_uri": "https://localhost:8080/",
          "height": 192
        },
        "id": "HfyBQqH6Kj7x",
        "outputId": "aa183ede-7a2f-456e-995c-c2daea070ee8"
      },
      "execution_count": 467,
      "outputs": [
        {
          "output_type": "execute_result",
          "data": {
            "text/plain": [
              "               Time        V1        V2        V3        V4        V5  \\\n",
              "Class                                                                   \n",
              "0.0    34996.197195 -0.231008 -0.034844  0.704876  0.156111 -0.257629   \n",
              "1.0    29734.647887 -6.983068  5.108252 -9.589043  5.544330 -5.168831   \n",
              "\n",
              "             V6        V7       V8        V9  ...       V20       V21  \\\n",
              "Class                                         ...                       \n",
              "0.0    0.105005 -0.093744  0.04454  0.021640  ...  0.043223 -0.031459   \n",
              "1.0   -2.231451 -7.328468  3.65638 -3.290294  ...  0.425579  0.830120   \n",
              "\n",
              "            V22       V23       V24       V25       V26       V27       V28  \\\n",
              "Class                                                                         \n",
              "0.0   -0.106587 -0.037273  0.006573  0.134248  0.021278  0.001243  0.001023   \n",
              "1.0   -0.245639 -0.287868 -0.080482  0.278531  0.123823  0.627499  0.063417   \n",
              "\n",
              "          Amount  \n",
              "Class             \n",
              "0.0    96.947941  \n",
              "1.0    94.179930  \n",
              "\n",
              "[2 rows x 30 columns]"
            ],
            "text/html": [
              "\n",
              "  <div id=\"df-e50ad43f-6823-4aba-9903-cf4be8f777a5\" class=\"colab-df-container\">\n",
              "    <div>\n",
              "<style scoped>\n",
              "    .dataframe tbody tr th:only-of-type {\n",
              "        vertical-align: middle;\n",
              "    }\n",
              "\n",
              "    .dataframe tbody tr th {\n",
              "        vertical-align: top;\n",
              "    }\n",
              "\n",
              "    .dataframe thead th {\n",
              "        text-align: right;\n",
              "    }\n",
              "</style>\n",
              "<table border=\"1\" class=\"dataframe\">\n",
              "  <thead>\n",
              "    <tr style=\"text-align: right;\">\n",
              "      <th></th>\n",
              "      <th>Time</th>\n",
              "      <th>V1</th>\n",
              "      <th>V2</th>\n",
              "      <th>V3</th>\n",
              "      <th>V4</th>\n",
              "      <th>V5</th>\n",
              "      <th>V6</th>\n",
              "      <th>V7</th>\n",
              "      <th>V8</th>\n",
              "      <th>V9</th>\n",
              "      <th>...</th>\n",
              "      <th>V20</th>\n",
              "      <th>V21</th>\n",
              "      <th>V22</th>\n",
              "      <th>V23</th>\n",
              "      <th>V24</th>\n",
              "      <th>V25</th>\n",
              "      <th>V26</th>\n",
              "      <th>V27</th>\n",
              "      <th>V28</th>\n",
              "      <th>Amount</th>\n",
              "    </tr>\n",
              "    <tr>\n",
              "      <th>Class</th>\n",
              "      <th></th>\n",
              "      <th></th>\n",
              "      <th></th>\n",
              "      <th></th>\n",
              "      <th></th>\n",
              "      <th></th>\n",
              "      <th></th>\n",
              "      <th></th>\n",
              "      <th></th>\n",
              "      <th></th>\n",
              "      <th></th>\n",
              "      <th></th>\n",
              "      <th></th>\n",
              "      <th></th>\n",
              "      <th></th>\n",
              "      <th></th>\n",
              "      <th></th>\n",
              "      <th></th>\n",
              "      <th></th>\n",
              "      <th></th>\n",
              "      <th></th>\n",
              "    </tr>\n",
              "  </thead>\n",
              "  <tbody>\n",
              "    <tr>\n",
              "      <th>0.0</th>\n",
              "      <td>34996.197195</td>\n",
              "      <td>-0.231008</td>\n",
              "      <td>-0.034844</td>\n",
              "      <td>0.704876</td>\n",
              "      <td>0.156111</td>\n",
              "      <td>-0.257629</td>\n",
              "      <td>0.105005</td>\n",
              "      <td>-0.093744</td>\n",
              "      <td>0.04454</td>\n",
              "      <td>0.021640</td>\n",
              "      <td>...</td>\n",
              "      <td>0.043223</td>\n",
              "      <td>-0.031459</td>\n",
              "      <td>-0.106587</td>\n",
              "      <td>-0.037273</td>\n",
              "      <td>0.006573</td>\n",
              "      <td>0.134248</td>\n",
              "      <td>0.021278</td>\n",
              "      <td>0.001243</td>\n",
              "      <td>0.001023</td>\n",
              "      <td>96.947941</td>\n",
              "    </tr>\n",
              "    <tr>\n",
              "      <th>1.0</th>\n",
              "      <td>29734.647887</td>\n",
              "      <td>-6.983068</td>\n",
              "      <td>5.108252</td>\n",
              "      <td>-9.589043</td>\n",
              "      <td>5.544330</td>\n",
              "      <td>-5.168831</td>\n",
              "      <td>-2.231451</td>\n",
              "      <td>-7.328468</td>\n",
              "      <td>3.65638</td>\n",
              "      <td>-3.290294</td>\n",
              "      <td>...</td>\n",
              "      <td>0.425579</td>\n",
              "      <td>0.830120</td>\n",
              "      <td>-0.245639</td>\n",
              "      <td>-0.287868</td>\n",
              "      <td>-0.080482</td>\n",
              "      <td>0.278531</td>\n",
              "      <td>0.123823</td>\n",
              "      <td>0.627499</td>\n",
              "      <td>0.063417</td>\n",
              "      <td>94.179930</td>\n",
              "    </tr>\n",
              "  </tbody>\n",
              "</table>\n",
              "<p>2 rows × 30 columns</p>\n",
              "</div>\n",
              "    <div class=\"colab-df-buttons\">\n",
              "\n",
              "  <div class=\"colab-df-container\">\n",
              "    <button class=\"colab-df-convert\" onclick=\"convertToInteractive('df-e50ad43f-6823-4aba-9903-cf4be8f777a5')\"\n",
              "            title=\"Convert this dataframe to an interactive table.\"\n",
              "            style=\"display:none;\">\n",
              "\n",
              "  <svg xmlns=\"http://www.w3.org/2000/svg\" height=\"24px\" viewBox=\"0 -960 960 960\">\n",
              "    <path d=\"M120-120v-720h720v720H120Zm60-500h600v-160H180v160Zm220 220h160v-160H400v160Zm0 220h160v-160H400v160ZM180-400h160v-160H180v160Zm440 0h160v-160H620v160ZM180-180h160v-160H180v160Zm440 0h160v-160H620v160Z\"/>\n",
              "  </svg>\n",
              "    </button>\n",
              "\n",
              "  <style>\n",
              "    .colab-df-container {\n",
              "      display:flex;\n",
              "      gap: 12px;\n",
              "    }\n",
              "\n",
              "    .colab-df-convert {\n",
              "      background-color: #E8F0FE;\n",
              "      border: none;\n",
              "      border-radius: 50%;\n",
              "      cursor: pointer;\n",
              "      display: none;\n",
              "      fill: #1967D2;\n",
              "      height: 32px;\n",
              "      padding: 0 0 0 0;\n",
              "      width: 32px;\n",
              "    }\n",
              "\n",
              "    .colab-df-convert:hover {\n",
              "      background-color: #E2EBFA;\n",
              "      box-shadow: 0px 1px 2px rgba(60, 64, 67, 0.3), 0px 1px 3px 1px rgba(60, 64, 67, 0.15);\n",
              "      fill: #174EA6;\n",
              "    }\n",
              "\n",
              "    .colab-df-buttons div {\n",
              "      margin-bottom: 4px;\n",
              "    }\n",
              "\n",
              "    [theme=dark] .colab-df-convert {\n",
              "      background-color: #3B4455;\n",
              "      fill: #D2E3FC;\n",
              "    }\n",
              "\n",
              "    [theme=dark] .colab-df-convert:hover {\n",
              "      background-color: #434B5C;\n",
              "      box-shadow: 0px 1px 3px 1px rgba(0, 0, 0, 0.15);\n",
              "      filter: drop-shadow(0px 1px 2px rgba(0, 0, 0, 0.3));\n",
              "      fill: #FFFFFF;\n",
              "    }\n",
              "  </style>\n",
              "\n",
              "    <script>\n",
              "      const buttonEl =\n",
              "        document.querySelector('#df-e50ad43f-6823-4aba-9903-cf4be8f777a5 button.colab-df-convert');\n",
              "      buttonEl.style.display =\n",
              "        google.colab.kernel.accessAllowed ? 'block' : 'none';\n",
              "\n",
              "      async function convertToInteractive(key) {\n",
              "        const element = document.querySelector('#df-e50ad43f-6823-4aba-9903-cf4be8f777a5');\n",
              "        const dataTable =\n",
              "          await google.colab.kernel.invokeFunction('convertToInteractive',\n",
              "                                                    [key], {});\n",
              "        if (!dataTable) return;\n",
              "\n",
              "        const docLinkHtml = 'Like what you see? Visit the ' +\n",
              "          '<a target=\"_blank\" href=https://colab.research.google.com/notebooks/data_table.ipynb>data table notebook</a>'\n",
              "          + ' to learn more about interactive tables.';\n",
              "        element.innerHTML = '';\n",
              "        dataTable['output_type'] = 'display_data';\n",
              "        await google.colab.output.renderOutput(dataTable, element);\n",
              "        const docLink = document.createElement('div');\n",
              "        docLink.innerHTML = docLinkHtml;\n",
              "        element.appendChild(docLink);\n",
              "      }\n",
              "    </script>\n",
              "  </div>\n",
              "\n",
              "\n",
              "<div id=\"df-c32a033f-52b5-42fa-a1e8-0e15efaad6d0\">\n",
              "  <button class=\"colab-df-quickchart\" onclick=\"quickchart('df-c32a033f-52b5-42fa-a1e8-0e15efaad6d0')\"\n",
              "            title=\"Suggest charts\"\n",
              "            style=\"display:none;\">\n",
              "\n",
              "<svg xmlns=\"http://www.w3.org/2000/svg\" height=\"24px\"viewBox=\"0 0 24 24\"\n",
              "     width=\"24px\">\n",
              "    <g>\n",
              "        <path d=\"M19 3H5c-1.1 0-2 .9-2 2v14c0 1.1.9 2 2 2h14c1.1 0 2-.9 2-2V5c0-1.1-.9-2-2-2zM9 17H7v-7h2v7zm4 0h-2V7h2v10zm4 0h-2v-4h2v4z\"/>\n",
              "    </g>\n",
              "</svg>\n",
              "  </button>\n",
              "\n",
              "<style>\n",
              "  .colab-df-quickchart {\n",
              "      --bg-color: #E8F0FE;\n",
              "      --fill-color: #1967D2;\n",
              "      --hover-bg-color: #E2EBFA;\n",
              "      --hover-fill-color: #174EA6;\n",
              "      --disabled-fill-color: #AAA;\n",
              "      --disabled-bg-color: #DDD;\n",
              "  }\n",
              "\n",
              "  [theme=dark] .colab-df-quickchart {\n",
              "      --bg-color: #3B4455;\n",
              "      --fill-color: #D2E3FC;\n",
              "      --hover-bg-color: #434B5C;\n",
              "      --hover-fill-color: #FFFFFF;\n",
              "      --disabled-bg-color: #3B4455;\n",
              "      --disabled-fill-color: #666;\n",
              "  }\n",
              "\n",
              "  .colab-df-quickchart {\n",
              "    background-color: var(--bg-color);\n",
              "    border: none;\n",
              "    border-radius: 50%;\n",
              "    cursor: pointer;\n",
              "    display: none;\n",
              "    fill: var(--fill-color);\n",
              "    height: 32px;\n",
              "    padding: 0;\n",
              "    width: 32px;\n",
              "  }\n",
              "\n",
              "  .colab-df-quickchart:hover {\n",
              "    background-color: var(--hover-bg-color);\n",
              "    box-shadow: 0 1px 2px rgba(60, 64, 67, 0.3), 0 1px 3px 1px rgba(60, 64, 67, 0.15);\n",
              "    fill: var(--button-hover-fill-color);\n",
              "  }\n",
              "\n",
              "  .colab-df-quickchart-complete:disabled,\n",
              "  .colab-df-quickchart-complete:disabled:hover {\n",
              "    background-color: var(--disabled-bg-color);\n",
              "    fill: var(--disabled-fill-color);\n",
              "    box-shadow: none;\n",
              "  }\n",
              "\n",
              "  .colab-df-spinner {\n",
              "    border: 2px solid var(--fill-color);\n",
              "    border-color: transparent;\n",
              "    border-bottom-color: var(--fill-color);\n",
              "    animation:\n",
              "      spin 1s steps(1) infinite;\n",
              "  }\n",
              "\n",
              "  @keyframes spin {\n",
              "    0% {\n",
              "      border-color: transparent;\n",
              "      border-bottom-color: var(--fill-color);\n",
              "      border-left-color: var(--fill-color);\n",
              "    }\n",
              "    20% {\n",
              "      border-color: transparent;\n",
              "      border-left-color: var(--fill-color);\n",
              "      border-top-color: var(--fill-color);\n",
              "    }\n",
              "    30% {\n",
              "      border-color: transparent;\n",
              "      border-left-color: var(--fill-color);\n",
              "      border-top-color: var(--fill-color);\n",
              "      border-right-color: var(--fill-color);\n",
              "    }\n",
              "    40% {\n",
              "      border-color: transparent;\n",
              "      border-right-color: var(--fill-color);\n",
              "      border-top-color: var(--fill-color);\n",
              "    }\n",
              "    60% {\n",
              "      border-color: transparent;\n",
              "      border-right-color: var(--fill-color);\n",
              "    }\n",
              "    80% {\n",
              "      border-color: transparent;\n",
              "      border-right-color: var(--fill-color);\n",
              "      border-bottom-color: var(--fill-color);\n",
              "    }\n",
              "    90% {\n",
              "      border-color: transparent;\n",
              "      border-bottom-color: var(--fill-color);\n",
              "    }\n",
              "  }\n",
              "</style>\n",
              "\n",
              "  <script>\n",
              "    async function quickchart(key) {\n",
              "      const quickchartButtonEl =\n",
              "        document.querySelector('#' + key + ' button');\n",
              "      quickchartButtonEl.disabled = true;  // To prevent multiple clicks.\n",
              "      quickchartButtonEl.classList.add('colab-df-spinner');\n",
              "      try {\n",
              "        const charts = await google.colab.kernel.invokeFunction(\n",
              "            'suggestCharts', [key], {});\n",
              "      } catch (error) {\n",
              "        console.error('Error during call to suggestCharts:', error);\n",
              "      }\n",
              "      quickchartButtonEl.classList.remove('colab-df-spinner');\n",
              "      quickchartButtonEl.classList.add('colab-df-quickchart-complete');\n",
              "    }\n",
              "    (() => {\n",
              "      let quickchartButtonEl =\n",
              "        document.querySelector('#df-c32a033f-52b5-42fa-a1e8-0e15efaad6d0 button');\n",
              "      quickchartButtonEl.style.display =\n",
              "        google.colab.kernel.accessAllowed ? 'block' : 'none';\n",
              "    })();\n",
              "  </script>\n",
              "</div>\n",
              "    </div>\n",
              "  </div>\n"
            ]
          },
          "metadata": {},
          "execution_count": 467
        }
      ]
    },
    {
      "cell_type": "markdown",
      "source": [
        "The data is highly unbalanced. So we will use the technique of under-sampling to overcome the unbalanced data.\n",
        "\n",
        "There are 142 instanced of fraud in the data, so we will sample the 142 instances of legit transactions."
      ],
      "metadata": {
        "id": "LuQcO50ZN4e0"
      }
    },
    {
      "cell_type": "code",
      "source": [
        "legit_sample = legit.sample(n=142)"
      ],
      "metadata": {
        "id": "_fAl85HULVU_"
      },
      "execution_count": 468,
      "outputs": []
    },
    {
      "cell_type": "markdown",
      "source": [
        "Concatenating both data frames"
      ],
      "metadata": {
        "id": "bdK89fJaO9pg"
      }
    },
    {
      "cell_type": "code",
      "source": [
        "newdata = pd.concat([legit_sample,fraud], axis=0)"
      ],
      "metadata": {
        "id": "ObrYa8h9O7Dr"
      },
      "execution_count": 469,
      "outputs": []
    },
    {
      "cell_type": "code",
      "source": [
        "newdata['Class'].value_counts()"
      ],
      "metadata": {
        "colab": {
          "base_uri": "https://localhost:8080/"
        },
        "id": "_f6xH9JkQ6Hk",
        "outputId": "18436a3c-b16a-4678-db3a-57d637f49edf"
      },
      "execution_count": 470,
      "outputs": [
        {
          "output_type": "execute_result",
          "data": {
            "text/plain": [
              "0.0    142\n",
              "1.0    142\n",
              "Name: Class, dtype: int64"
            ]
          },
          "metadata": {},
          "execution_count": 470
        }
      ]
    },
    {
      "cell_type": "markdown",
      "source": [
        "New data is uniformly distributed!"
      ],
      "metadata": {
        "id": "KdMAoUWaREsP"
      }
    },
    {
      "cell_type": "code",
      "source": [
        "newdata.groupby('Class').mean()"
      ],
      "metadata": {
        "colab": {
          "base_uri": "https://localhost:8080/",
          "height": 192
        },
        "id": "X6jcF-4ZSbx8",
        "outputId": "4c07e9cb-78ec-4b99-cb3d-5517db260873"
      },
      "execution_count": 471,
      "outputs": [
        {
          "output_type": "execute_result",
          "data": {
            "text/plain": [
              "               Time        V1        V2        V3        V4        V5  \\\n",
              "Class                                                                   \n",
              "0.0    35073.176056 -0.387248 -0.025383  0.761409  0.269129 -0.195475   \n",
              "1.0    29734.647887 -6.983068  5.108252 -9.589043  5.544330 -5.168831   \n",
              "\n",
              "             V6        V7        V8        V9  ...       V20       V21  \\\n",
              "Class                                          ...                       \n",
              "0.0    0.161447 -0.033701  0.216792 -0.083320  ...  0.134420 -0.012314   \n",
              "1.0   -2.231451 -7.328468  3.656380 -3.290294  ...  0.425579  0.830120   \n",
              "\n",
              "            V22       V23       V24       V25       V26       V27       V28  \\\n",
              "Class                                                                         \n",
              "0.0   -0.141399 -0.006972  0.009738  0.106870 -0.045521 -0.033400  0.011543   \n",
              "1.0   -0.245639 -0.287868 -0.080482  0.278531  0.123823  0.627499  0.063417   \n",
              "\n",
              "           Amount  \n",
              "Class              \n",
              "0.0    112.021197  \n",
              "1.0     94.179930  \n",
              "\n",
              "[2 rows x 30 columns]"
            ],
            "text/html": [
              "\n",
              "  <div id=\"df-80e84048-3402-4dab-a60e-a3d1b06cb7a7\" class=\"colab-df-container\">\n",
              "    <div>\n",
              "<style scoped>\n",
              "    .dataframe tbody tr th:only-of-type {\n",
              "        vertical-align: middle;\n",
              "    }\n",
              "\n",
              "    .dataframe tbody tr th {\n",
              "        vertical-align: top;\n",
              "    }\n",
              "\n",
              "    .dataframe thead th {\n",
              "        text-align: right;\n",
              "    }\n",
              "</style>\n",
              "<table border=\"1\" class=\"dataframe\">\n",
              "  <thead>\n",
              "    <tr style=\"text-align: right;\">\n",
              "      <th></th>\n",
              "      <th>Time</th>\n",
              "      <th>V1</th>\n",
              "      <th>V2</th>\n",
              "      <th>V3</th>\n",
              "      <th>V4</th>\n",
              "      <th>V5</th>\n",
              "      <th>V6</th>\n",
              "      <th>V7</th>\n",
              "      <th>V8</th>\n",
              "      <th>V9</th>\n",
              "      <th>...</th>\n",
              "      <th>V20</th>\n",
              "      <th>V21</th>\n",
              "      <th>V22</th>\n",
              "      <th>V23</th>\n",
              "      <th>V24</th>\n",
              "      <th>V25</th>\n",
              "      <th>V26</th>\n",
              "      <th>V27</th>\n",
              "      <th>V28</th>\n",
              "      <th>Amount</th>\n",
              "    </tr>\n",
              "    <tr>\n",
              "      <th>Class</th>\n",
              "      <th></th>\n",
              "      <th></th>\n",
              "      <th></th>\n",
              "      <th></th>\n",
              "      <th></th>\n",
              "      <th></th>\n",
              "      <th></th>\n",
              "      <th></th>\n",
              "      <th></th>\n",
              "      <th></th>\n",
              "      <th></th>\n",
              "      <th></th>\n",
              "      <th></th>\n",
              "      <th></th>\n",
              "      <th></th>\n",
              "      <th></th>\n",
              "      <th></th>\n",
              "      <th></th>\n",
              "      <th></th>\n",
              "      <th></th>\n",
              "      <th></th>\n",
              "    </tr>\n",
              "  </thead>\n",
              "  <tbody>\n",
              "    <tr>\n",
              "      <th>0.0</th>\n",
              "      <td>35073.176056</td>\n",
              "      <td>-0.387248</td>\n",
              "      <td>-0.025383</td>\n",
              "      <td>0.761409</td>\n",
              "      <td>0.269129</td>\n",
              "      <td>-0.195475</td>\n",
              "      <td>0.161447</td>\n",
              "      <td>-0.033701</td>\n",
              "      <td>0.216792</td>\n",
              "      <td>-0.083320</td>\n",
              "      <td>...</td>\n",
              "      <td>0.134420</td>\n",
              "      <td>-0.012314</td>\n",
              "      <td>-0.141399</td>\n",
              "      <td>-0.006972</td>\n",
              "      <td>0.009738</td>\n",
              "      <td>0.106870</td>\n",
              "      <td>-0.045521</td>\n",
              "      <td>-0.033400</td>\n",
              "      <td>0.011543</td>\n",
              "      <td>112.021197</td>\n",
              "    </tr>\n",
              "    <tr>\n",
              "      <th>1.0</th>\n",
              "      <td>29734.647887</td>\n",
              "      <td>-6.983068</td>\n",
              "      <td>5.108252</td>\n",
              "      <td>-9.589043</td>\n",
              "      <td>5.544330</td>\n",
              "      <td>-5.168831</td>\n",
              "      <td>-2.231451</td>\n",
              "      <td>-7.328468</td>\n",
              "      <td>3.656380</td>\n",
              "      <td>-3.290294</td>\n",
              "      <td>...</td>\n",
              "      <td>0.425579</td>\n",
              "      <td>0.830120</td>\n",
              "      <td>-0.245639</td>\n",
              "      <td>-0.287868</td>\n",
              "      <td>-0.080482</td>\n",
              "      <td>0.278531</td>\n",
              "      <td>0.123823</td>\n",
              "      <td>0.627499</td>\n",
              "      <td>0.063417</td>\n",
              "      <td>94.179930</td>\n",
              "    </tr>\n",
              "  </tbody>\n",
              "</table>\n",
              "<p>2 rows × 30 columns</p>\n",
              "</div>\n",
              "    <div class=\"colab-df-buttons\">\n",
              "\n",
              "  <div class=\"colab-df-container\">\n",
              "    <button class=\"colab-df-convert\" onclick=\"convertToInteractive('df-80e84048-3402-4dab-a60e-a3d1b06cb7a7')\"\n",
              "            title=\"Convert this dataframe to an interactive table.\"\n",
              "            style=\"display:none;\">\n",
              "\n",
              "  <svg xmlns=\"http://www.w3.org/2000/svg\" height=\"24px\" viewBox=\"0 -960 960 960\">\n",
              "    <path d=\"M120-120v-720h720v720H120Zm60-500h600v-160H180v160Zm220 220h160v-160H400v160Zm0 220h160v-160H400v160ZM180-400h160v-160H180v160Zm440 0h160v-160H620v160ZM180-180h160v-160H180v160Zm440 0h160v-160H620v160Z\"/>\n",
              "  </svg>\n",
              "    </button>\n",
              "\n",
              "  <style>\n",
              "    .colab-df-container {\n",
              "      display:flex;\n",
              "      gap: 12px;\n",
              "    }\n",
              "\n",
              "    .colab-df-convert {\n",
              "      background-color: #E8F0FE;\n",
              "      border: none;\n",
              "      border-radius: 50%;\n",
              "      cursor: pointer;\n",
              "      display: none;\n",
              "      fill: #1967D2;\n",
              "      height: 32px;\n",
              "      padding: 0 0 0 0;\n",
              "      width: 32px;\n",
              "    }\n",
              "\n",
              "    .colab-df-convert:hover {\n",
              "      background-color: #E2EBFA;\n",
              "      box-shadow: 0px 1px 2px rgba(60, 64, 67, 0.3), 0px 1px 3px 1px rgba(60, 64, 67, 0.15);\n",
              "      fill: #174EA6;\n",
              "    }\n",
              "\n",
              "    .colab-df-buttons div {\n",
              "      margin-bottom: 4px;\n",
              "    }\n",
              "\n",
              "    [theme=dark] .colab-df-convert {\n",
              "      background-color: #3B4455;\n",
              "      fill: #D2E3FC;\n",
              "    }\n",
              "\n",
              "    [theme=dark] .colab-df-convert:hover {\n",
              "      background-color: #434B5C;\n",
              "      box-shadow: 0px 1px 3px 1px rgba(0, 0, 0, 0.15);\n",
              "      filter: drop-shadow(0px 1px 2px rgba(0, 0, 0, 0.3));\n",
              "      fill: #FFFFFF;\n",
              "    }\n",
              "  </style>\n",
              "\n",
              "    <script>\n",
              "      const buttonEl =\n",
              "        document.querySelector('#df-80e84048-3402-4dab-a60e-a3d1b06cb7a7 button.colab-df-convert');\n",
              "      buttonEl.style.display =\n",
              "        google.colab.kernel.accessAllowed ? 'block' : 'none';\n",
              "\n",
              "      async function convertToInteractive(key) {\n",
              "        const element = document.querySelector('#df-80e84048-3402-4dab-a60e-a3d1b06cb7a7');\n",
              "        const dataTable =\n",
              "          await google.colab.kernel.invokeFunction('convertToInteractive',\n",
              "                                                    [key], {});\n",
              "        if (!dataTable) return;\n",
              "\n",
              "        const docLinkHtml = 'Like what you see? Visit the ' +\n",
              "          '<a target=\"_blank\" href=https://colab.research.google.com/notebooks/data_table.ipynb>data table notebook</a>'\n",
              "          + ' to learn more about interactive tables.';\n",
              "        element.innerHTML = '';\n",
              "        dataTable['output_type'] = 'display_data';\n",
              "        await google.colab.output.renderOutput(dataTable, element);\n",
              "        const docLink = document.createElement('div');\n",
              "        docLink.innerHTML = docLinkHtml;\n",
              "        element.appendChild(docLink);\n",
              "      }\n",
              "    </script>\n",
              "  </div>\n",
              "\n",
              "\n",
              "<div id=\"df-a1f2d17a-882c-4ba9-8c35-6111ddc7b33a\">\n",
              "  <button class=\"colab-df-quickchart\" onclick=\"quickchart('df-a1f2d17a-882c-4ba9-8c35-6111ddc7b33a')\"\n",
              "            title=\"Suggest charts\"\n",
              "            style=\"display:none;\">\n",
              "\n",
              "<svg xmlns=\"http://www.w3.org/2000/svg\" height=\"24px\"viewBox=\"0 0 24 24\"\n",
              "     width=\"24px\">\n",
              "    <g>\n",
              "        <path d=\"M19 3H5c-1.1 0-2 .9-2 2v14c0 1.1.9 2 2 2h14c1.1 0 2-.9 2-2V5c0-1.1-.9-2-2-2zM9 17H7v-7h2v7zm4 0h-2V7h2v10zm4 0h-2v-4h2v4z\"/>\n",
              "    </g>\n",
              "</svg>\n",
              "  </button>\n",
              "\n",
              "<style>\n",
              "  .colab-df-quickchart {\n",
              "      --bg-color: #E8F0FE;\n",
              "      --fill-color: #1967D2;\n",
              "      --hover-bg-color: #E2EBFA;\n",
              "      --hover-fill-color: #174EA6;\n",
              "      --disabled-fill-color: #AAA;\n",
              "      --disabled-bg-color: #DDD;\n",
              "  }\n",
              "\n",
              "  [theme=dark] .colab-df-quickchart {\n",
              "      --bg-color: #3B4455;\n",
              "      --fill-color: #D2E3FC;\n",
              "      --hover-bg-color: #434B5C;\n",
              "      --hover-fill-color: #FFFFFF;\n",
              "      --disabled-bg-color: #3B4455;\n",
              "      --disabled-fill-color: #666;\n",
              "  }\n",
              "\n",
              "  .colab-df-quickchart {\n",
              "    background-color: var(--bg-color);\n",
              "    border: none;\n",
              "    border-radius: 50%;\n",
              "    cursor: pointer;\n",
              "    display: none;\n",
              "    fill: var(--fill-color);\n",
              "    height: 32px;\n",
              "    padding: 0;\n",
              "    width: 32px;\n",
              "  }\n",
              "\n",
              "  .colab-df-quickchart:hover {\n",
              "    background-color: var(--hover-bg-color);\n",
              "    box-shadow: 0 1px 2px rgba(60, 64, 67, 0.3), 0 1px 3px 1px rgba(60, 64, 67, 0.15);\n",
              "    fill: var(--button-hover-fill-color);\n",
              "  }\n",
              "\n",
              "  .colab-df-quickchart-complete:disabled,\n",
              "  .colab-df-quickchart-complete:disabled:hover {\n",
              "    background-color: var(--disabled-bg-color);\n",
              "    fill: var(--disabled-fill-color);\n",
              "    box-shadow: none;\n",
              "  }\n",
              "\n",
              "  .colab-df-spinner {\n",
              "    border: 2px solid var(--fill-color);\n",
              "    border-color: transparent;\n",
              "    border-bottom-color: var(--fill-color);\n",
              "    animation:\n",
              "      spin 1s steps(1) infinite;\n",
              "  }\n",
              "\n",
              "  @keyframes spin {\n",
              "    0% {\n",
              "      border-color: transparent;\n",
              "      border-bottom-color: var(--fill-color);\n",
              "      border-left-color: var(--fill-color);\n",
              "    }\n",
              "    20% {\n",
              "      border-color: transparent;\n",
              "      border-left-color: var(--fill-color);\n",
              "      border-top-color: var(--fill-color);\n",
              "    }\n",
              "    30% {\n",
              "      border-color: transparent;\n",
              "      border-left-color: var(--fill-color);\n",
              "      border-top-color: var(--fill-color);\n",
              "      border-right-color: var(--fill-color);\n",
              "    }\n",
              "    40% {\n",
              "      border-color: transparent;\n",
              "      border-right-color: var(--fill-color);\n",
              "      border-top-color: var(--fill-color);\n",
              "    }\n",
              "    60% {\n",
              "      border-color: transparent;\n",
              "      border-right-color: var(--fill-color);\n",
              "    }\n",
              "    80% {\n",
              "      border-color: transparent;\n",
              "      border-right-color: var(--fill-color);\n",
              "      border-bottom-color: var(--fill-color);\n",
              "    }\n",
              "    90% {\n",
              "      border-color: transparent;\n",
              "      border-bottom-color: var(--fill-color);\n",
              "    }\n",
              "  }\n",
              "</style>\n",
              "\n",
              "  <script>\n",
              "    async function quickchart(key) {\n",
              "      const quickchartButtonEl =\n",
              "        document.querySelector('#' + key + ' button');\n",
              "      quickchartButtonEl.disabled = true;  // To prevent multiple clicks.\n",
              "      quickchartButtonEl.classList.add('colab-df-spinner');\n",
              "      try {\n",
              "        const charts = await google.colab.kernel.invokeFunction(\n",
              "            'suggestCharts', [key], {});\n",
              "      } catch (error) {\n",
              "        console.error('Error during call to suggestCharts:', error);\n",
              "      }\n",
              "      quickchartButtonEl.classList.remove('colab-df-spinner');\n",
              "      quickchartButtonEl.classList.add('colab-df-quickchart-complete');\n",
              "    }\n",
              "    (() => {\n",
              "      let quickchartButtonEl =\n",
              "        document.querySelector('#df-a1f2d17a-882c-4ba9-8c35-6111ddc7b33a button');\n",
              "      quickchartButtonEl.style.display =\n",
              "        google.colab.kernel.accessAllowed ? 'block' : 'none';\n",
              "    })();\n",
              "  </script>\n",
              "</div>\n",
              "    </div>\n",
              "  </div>\n"
            ]
          },
          "metadata": {},
          "execution_count": 471
        }
      ]
    },
    {
      "cell_type": "markdown",
      "source": [
        "Splitting the new data again into features & targets"
      ],
      "metadata": {
        "id": "GgR9bFKlS4tk"
      }
    },
    {
      "cell_type": "code",
      "source": [
        "X = newdata.drop(columns = 'Class', axis = 1)\n",
        "Y = newdata['Class']"
      ],
      "metadata": {
        "id": "_E7gt8rAShAN"
      },
      "execution_count": 472,
      "outputs": []
    },
    {
      "cell_type": "code",
      "source": [
        "print(X)"
      ],
      "metadata": {
        "colab": {
          "base_uri": "https://localhost:8080/"
        },
        "id": "d8Fjp_oxyza1",
        "outputId": "5eb366ff-d04c-4b90-cd48-ba46cb00acae"
      },
      "execution_count": 473,
      "outputs": [
        {
          "output_type": "stream",
          "name": "stdout",
          "text": [
            "        Time         V1         V2         V3         V4         V5        V6  \\\n",
            "38978   8244   1.448056  -0.186388  -0.525712  -1.525213  -0.031220 -0.747490   \n",
            "51017  27780  -1.378503  -0.354806   2.665691  -1.016387   0.218326  0.001238   \n",
            "54240   1043   0.896741  -0.630224   0.405024   0.582719  -0.939855 -0.568730   \n",
            "18087  44031  -0.428961  -1.035180   0.986849  -1.391227  -2.428162  1.020413   \n",
            "12689  33176   0.908840  -0.560144   0.358584   0.943081   0.041097  1.585233   \n",
            "...      ...        ...        ...        ...        ...        ...       ...   \n",
            "54172  53451   0.385108   1.217620  -1.953872   2.087076  -1.144225 -0.576888   \n",
            "55181  48533   1.243848   0.524526  -0.538884   1.209196   0.479538 -0.197429   \n",
            "55691  36170  -5.685013   5.776516  -7.064977   5.902715  -4.715564 -1.755633   \n",
            "56147  21662 -18.018561  10.558600 -24.667741  11.786180 -10.564657 -2.645681   \n",
            "56464  41233 -10.645800   5.918307 -11.671043   8.807369  -7.975501 -3.586806   \n",
            "\n",
            "              V7        V8        V9  ...       V20       V21       V22  \\\n",
            "38978  -0.136855 -0.273429  2.731055  ... -0.162927 -0.129263 -0.012858   \n",
            "51017   0.370690 -0.117546  0.804467  ...  0.193852 -0.314236 -0.255689   \n",
            "54240  -0.043449  0.025718  0.493937  ...  0.112209 -0.100984 -0.556825   \n",
            "18087   1.328689 -0.509732 -2.320200  ... -0.054439 -0.303508 -0.171498   \n",
            "12689  -0.533433  0.389271  0.463772  ...  0.248491  0.188380  0.410129   \n",
            "...          ...       ...       ...  ...       ...       ...       ...   \n",
            "54172  -2.582865  0.643230 -1.191233  ...  0.380545  0.594623  0.372144   \n",
            "55181   0.049166  0.037792  0.128119  ... -0.171541 -0.051660 -0.084089   \n",
            "55691  -6.958679  3.877795 -5.541529  ...  0.299489  1.128641 -0.962960   \n",
            "56147 -18.023468  2.693655 -6.219464  ...  1.007703 -2.319479  0.908839   \n",
            "56464 -13.616797  6.428169 -7.368451  ... -0.046170  2.571970  0.206809   \n",
            "\n",
            "            V23       V24       V25       V26       V27       V28  Amount  \n",
            "38978 -0.324775 -1.020650  0.865304  0.205736 -0.043339 -0.016385    1.00  \n",
            "51017  0.076132  0.053170  0.273176  0.826469 -0.192465 -0.348188   34.66  \n",
            "54240 -0.081513  0.550401  0.244071  0.461153 -0.081473  0.023914  158.00  \n",
            "18087  0.576842 -0.311145 -0.827136 -0.350824  0.129095 -0.166714  435.70  \n",
            "12689 -0.426284 -1.670377  0.597713 -0.140972  0.053456  0.032516  157.60  \n",
            "...         ...       ...       ...       ...       ...       ...     ...  \n",
            "54172 -0.310456 -0.624065  0.840216 -0.159452  0.599482  0.288916    8.00  \n",
            "55181 -0.192846 -0.917392  0.681953 -0.194419  0.045917  0.040136    1.00  \n",
            "55691 -0.110045 -0.177733 -0.089175 -0.049447  0.303445  0.219380  111.70  \n",
            "56147  1.352904 -1.059222  0.185751  0.687037  2.078081 -1.429517    1.00  \n",
            "56464 -1.667801  0.558419 -0.027898  0.354254  0.273329 -0.152908    0.00  \n",
            "\n",
            "[284 rows x 30 columns]\n"
          ]
        }
      ]
    },
    {
      "cell_type": "code",
      "source": [
        "print(Y)"
      ],
      "metadata": {
        "colab": {
          "base_uri": "https://localhost:8080/"
        },
        "id": "kj174TnczEuX",
        "outputId": "8ba5f12b-106f-46d3-f74d-e45e23951e4c"
      },
      "execution_count": 474,
      "outputs": [
        {
          "output_type": "stream",
          "name": "stdout",
          "text": [
            "38978    0.0\n",
            "51017    0.0\n",
            "54240    0.0\n",
            "18087    0.0\n",
            "12689    0.0\n",
            "        ... \n",
            "54172    1.0\n",
            "55181    1.0\n",
            "55691    1.0\n",
            "56147    1.0\n",
            "56464    1.0\n",
            "Name: Class, Length: 284, dtype: float64\n"
          ]
        }
      ]
    },
    {
      "cell_type": "code",
      "source": [
        "X_train, X_test, Y_train, Y_test = train_test_split(X, Y, test_size=0.2, stratify=Y, random_state=2)"
      ],
      "metadata": {
        "id": "4mnLtXkyqf-M"
      },
      "execution_count": 475,
      "outputs": []
    },
    {
      "cell_type": "code",
      "source": [
        "print(X.shape,X_train.shape, X_test.shape)"
      ],
      "metadata": {
        "colab": {
          "base_uri": "https://localhost:8080/"
        },
        "id": "oOQTnbXrrZNR",
        "outputId": "58d5c9eb-b423-4493-cf5a-9301c97477fd"
      },
      "execution_count": 476,
      "outputs": [
        {
          "output_type": "stream",
          "name": "stdout",
          "text": [
            "(284, 30) (227, 30) (57, 30)\n"
          ]
        }
      ]
    },
    {
      "cell_type": "markdown",
      "source": [
        "#MODEL TRAINING"
      ],
      "metadata": {
        "id": "oofk0YziwpuY"
      }
    },
    {
      "cell_type": "markdown",
      "source": [
        "LOGISTIC REGRESSION"
      ],
      "metadata": {
        "id": "NzhIuv64w9BS"
      }
    },
    {
      "cell_type": "code",
      "source": [
        "model = LogisticRegression(max_iter=1000)"
      ],
      "metadata": {
        "id": "VwK9h_97w6Kn"
      },
      "execution_count": 477,
      "outputs": []
    },
    {
      "cell_type": "markdown",
      "source": [
        "Training the logistic regression model with training data"
      ],
      "metadata": {
        "id": "5ZFpDOAXxQg7"
      }
    },
    {
      "cell_type": "code",
      "source": [
        "model.fit(X_train,Y_train)"
      ],
      "metadata": {
        "colab": {
          "base_uri": "https://localhost:8080/",
          "height": 74
        },
        "id": "2DIJ8tvLxZMq",
        "outputId": "d5e8dd7a-3940-401b-c8ed-1388ad113acc"
      },
      "execution_count": 478,
      "outputs": [
        {
          "output_type": "execute_result",
          "data": {
            "text/plain": [
              "LogisticRegression(max_iter=1000)"
            ],
            "text/html": [
              "<style>#sk-container-id-18 {color: black;background-color: white;}#sk-container-id-18 pre{padding: 0;}#sk-container-id-18 div.sk-toggleable {background-color: white;}#sk-container-id-18 label.sk-toggleable__label {cursor: pointer;display: block;width: 100%;margin-bottom: 0;padding: 0.3em;box-sizing: border-box;text-align: center;}#sk-container-id-18 label.sk-toggleable__label-arrow:before {content: \"▸\";float: left;margin-right: 0.25em;color: #696969;}#sk-container-id-18 label.sk-toggleable__label-arrow:hover:before {color: black;}#sk-container-id-18 div.sk-estimator:hover label.sk-toggleable__label-arrow:before {color: black;}#sk-container-id-18 div.sk-toggleable__content {max-height: 0;max-width: 0;overflow: hidden;text-align: left;background-color: #f0f8ff;}#sk-container-id-18 div.sk-toggleable__content pre {margin: 0.2em;color: black;border-radius: 0.25em;background-color: #f0f8ff;}#sk-container-id-18 input.sk-toggleable__control:checked~div.sk-toggleable__content {max-height: 200px;max-width: 100%;overflow: auto;}#sk-container-id-18 input.sk-toggleable__control:checked~label.sk-toggleable__label-arrow:before {content: \"▾\";}#sk-container-id-18 div.sk-estimator input.sk-toggleable__control:checked~label.sk-toggleable__label {background-color: #d4ebff;}#sk-container-id-18 div.sk-label input.sk-toggleable__control:checked~label.sk-toggleable__label {background-color: #d4ebff;}#sk-container-id-18 input.sk-hidden--visually {border: 0;clip: rect(1px 1px 1px 1px);clip: rect(1px, 1px, 1px, 1px);height: 1px;margin: -1px;overflow: hidden;padding: 0;position: absolute;width: 1px;}#sk-container-id-18 div.sk-estimator {font-family: monospace;background-color: #f0f8ff;border: 1px dotted black;border-radius: 0.25em;box-sizing: border-box;margin-bottom: 0.5em;}#sk-container-id-18 div.sk-estimator:hover {background-color: #d4ebff;}#sk-container-id-18 div.sk-parallel-item::after {content: \"\";width: 100%;border-bottom: 1px solid gray;flex-grow: 1;}#sk-container-id-18 div.sk-label:hover label.sk-toggleable__label {background-color: #d4ebff;}#sk-container-id-18 div.sk-serial::before {content: \"\";position: absolute;border-left: 1px solid gray;box-sizing: border-box;top: 0;bottom: 0;left: 50%;z-index: 0;}#sk-container-id-18 div.sk-serial {display: flex;flex-direction: column;align-items: center;background-color: white;padding-right: 0.2em;padding-left: 0.2em;position: relative;}#sk-container-id-18 div.sk-item {position: relative;z-index: 1;}#sk-container-id-18 div.sk-parallel {display: flex;align-items: stretch;justify-content: center;background-color: white;position: relative;}#sk-container-id-18 div.sk-item::before, #sk-container-id-18 div.sk-parallel-item::before {content: \"\";position: absolute;border-left: 1px solid gray;box-sizing: border-box;top: 0;bottom: 0;left: 50%;z-index: -1;}#sk-container-id-18 div.sk-parallel-item {display: flex;flex-direction: column;z-index: 1;position: relative;background-color: white;}#sk-container-id-18 div.sk-parallel-item:first-child::after {align-self: flex-end;width: 50%;}#sk-container-id-18 div.sk-parallel-item:last-child::after {align-self: flex-start;width: 50%;}#sk-container-id-18 div.sk-parallel-item:only-child::after {width: 0;}#sk-container-id-18 div.sk-dashed-wrapped {border: 1px dashed gray;margin: 0 0.4em 0.5em 0.4em;box-sizing: border-box;padding-bottom: 0.4em;background-color: white;}#sk-container-id-18 div.sk-label label {font-family: monospace;font-weight: bold;display: inline-block;line-height: 1.2em;}#sk-container-id-18 div.sk-label-container {text-align: center;}#sk-container-id-18 div.sk-container {/* jupyter's `normalize.less` sets `[hidden] { display: none; }` but bootstrap.min.css set `[hidden] { display: none !important; }` so we also need the `!important` here to be able to override the default hidden behavior on the sphinx rendered scikit-learn.org. See: https://github.com/scikit-learn/scikit-learn/issues/21755 */display: inline-block !important;position: relative;}#sk-container-id-18 div.sk-text-repr-fallback {display: none;}</style><div id=\"sk-container-id-18\" class=\"sk-top-container\"><div class=\"sk-text-repr-fallback\"><pre>LogisticRegression(max_iter=1000)</pre><b>In a Jupyter environment, please rerun this cell to show the HTML representation or trust the notebook. <br />On GitHub, the HTML representation is unable to render, please try loading this page with nbviewer.org.</b></div><div class=\"sk-container\" hidden><div class=\"sk-item\"><div class=\"sk-estimator sk-toggleable\"><input class=\"sk-toggleable__control sk-hidden--visually\" id=\"sk-estimator-id-18\" type=\"checkbox\" checked><label for=\"sk-estimator-id-18\" class=\"sk-toggleable__label sk-toggleable__label-arrow\">LogisticRegression</label><div class=\"sk-toggleable__content\"><pre>LogisticRegression(max_iter=1000)</pre></div></div></div></div></div>"
            ]
          },
          "metadata": {},
          "execution_count": 478
        }
      ]
    },
    {
      "cell_type": "markdown",
      "source": [
        "#ACCURACY SCORE"
      ],
      "metadata": {
        "id": "0pYDAnAC1JRM"
      }
    },
    {
      "cell_type": "code",
      "source": [
        "X_prediction = model.predict(X_train)"
      ],
      "metadata": {
        "id": "eKbq9516xh-L"
      },
      "execution_count": 479,
      "outputs": []
    },
    {
      "cell_type": "code",
      "source": [
        "accuracy = accuracy_score(X_prediction, Y_train)\n",
        "precision = precision_score(X_prediction, Y_train)\n",
        "recall = recall_score(X_prediction, Y_train)\n",
        "f1 = f1_score(X_prediction,Y_train)\n",
        "\n",
        "#For binary classification tasks, you can use roc_auc_score\n",
        "roc_auc = roc_auc_score(X_prediction,Y_train)"
      ],
      "metadata": {
        "id": "L0gLqANP1uUH"
      },
      "execution_count": 480,
      "outputs": []
    },
    {
      "cell_type": "code",
      "source": [
        "print(accuracy,f1,roc_auc)"
      ],
      "metadata": {
        "colab": {
          "base_uri": "https://localhost:8080/"
        },
        "id": "cgA8KAq2505e",
        "outputId": "24582e05-f4e4-4dd0-9133-88003e0c0999"
      },
      "execution_count": 481,
      "outputs": [
        {
          "output_type": "stream",
          "name": "stdout",
          "text": [
            "0.9647577092511013 0.9649122807017544 0.9647570253066293\n"
          ]
        }
      ]
    },
    {
      "cell_type": "code",
      "source": [
        "X_pred_test = model.predict(X_test)"
      ],
      "metadata": {
        "id": "B1nBLubzlz99"
      },
      "execution_count": 482,
      "outputs": []
    },
    {
      "cell_type": "code",
      "source": [
        "accuracy = accuracy_score(X_pred_test, Y_test)\n",
        "precision = precision_score(X_pred_test, Y_test)\n",
        "recall = recall_score(X_pred_test, Y_test)\n",
        "f1 = f1_score(X_pred_test,Y_test)\n",
        "\n",
        "#For binary classification tasks, you can use roc_auc_score\n",
        "roc_auc = roc_auc_score(X_pred_test,Y_test)"
      ],
      "metadata": {
        "id": "XIjgOph9sA54"
      },
      "execution_count": 483,
      "outputs": []
    },
    {
      "cell_type": "code",
      "source": [
        "print(accuracy,f1,roc_auc)"
      ],
      "metadata": {
        "colab": {
          "base_uri": "https://localhost:8080/"
        },
        "id": "piDteqQKsMbF",
        "outputId": "42786cc7-eb2a-440c-a184-f8fdde7f775b"
      },
      "execution_count": 484,
      "outputs": [
        {
          "output_type": "stream",
          "name": "stdout",
          "text": [
            "0.9649122807017544 0.9642857142857143 0.9649014778325125\n"
          ]
        }
      ]
    },
    {
      "cell_type": "code",
      "source": [],
      "metadata": {
        "id": "jW3sh6-UsT-S"
      },
      "execution_count": 484,
      "outputs": []
    }
  ]
}